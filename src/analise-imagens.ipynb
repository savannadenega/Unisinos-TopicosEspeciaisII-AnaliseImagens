{
 "cells": [
  {
   "cell_type": "code",
   "execution_count": 1,
   "metadata": {},
   "outputs": [],
   "source": [
    "import os, sys\n",
    "import numpy\n",
    "import matplotlib.pyplot as pyplot\n",
    "import pandas\n",
    "import glob\n",
    "\n",
    "from skimage.feature import greycomatrix, greycoprops\n",
    "from skimage import data\n",
    "from os import walk\n",
    "from PIL import Image"
   ]
  },
  {
   "cell_type": "code",
   "execution_count": 2,
   "metadata": {},
   "outputs": [],
   "source": [
    "dir_not_melanoma_imgs = '../Images/data_set/NotMelanoma'\n",
    "dir_melanoma_imgs = '../Images/data_set/Melanoma'\n",
    "\n",
    "dir_grayscale_not_melanoma_imgs = '../Images/grayscale/NotMelanoma'\n",
    "dir_grayscale_melanoma_imgs = '../Images/grayscale/Melanoma'\n",
    "\n",
    "list_not_melanoma_imgs = []\n",
    "list_melanoma_imgs = []"
   ]
  },
  {
   "cell_type": "code",
   "execution_count": 3,
   "metadata": {},
   "outputs": [],
   "source": [
    "for (dirpath, dirnames, filenames) in walk(dir_not_melanoma_imgs):\n",
    "    list_not_melanoma_imgs.extend(filenames)\n",
    "    break\n",
    "    \n",
    "for (dirpath, dirnames, filenames) in walk(dir_melanoma_imgs):\n",
    "    list_melanoma_imgs.extend(filenames)\n",
    "    break"
   ]
  },
  {
   "cell_type": "code",
   "execution_count": 4,
   "metadata": {},
   "outputs": [],
   "source": [
    "for infile in list_not_melanoma_imgs:\n",
    "    im = Image.open(dir_not_melanoma_imgs + '/' + infile).convert('L')\n",
    "    im.save(dir_grayscale_not_melanoma_imgs + '/' + infile)\n",
    "    \n",
    "for infile in list_melanoma_imgs:\n",
    "    im = Image.open(dir_melanoma_imgs + '/' + infile).convert('L')\n",
    "    im.save(dir_grayscale_melanoma_imgs + '/' + infile)"
   ]
  },
  {
   "cell_type": "code",
   "execution_count": null,
   "metadata": {},
   "outputs": [],
   "source": []
  }
 ],
 "metadata": {
  "kernelspec": {
   "display_name": "Python 3",
   "language": "python",
   "name": "python3"
  },
  "language_info": {
   "codemirror_mode": {
    "name": "ipython",
    "version": 3
   },
   "file_extension": ".py",
   "mimetype": "text/x-python",
   "name": "python",
   "nbconvert_exporter": "python",
   "pygments_lexer": "ipython3",
   "version": "3.7.4"
  }
 },
 "nbformat": 4,
 "nbformat_minor": 2
}
