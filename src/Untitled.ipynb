{
 "cells": [
  {
   "cell_type": "code",
   "execution_count": 15,
   "metadata": {},
   "outputs": [],
   "source": [
    "%matplotlib inline\n",
    "\n",
    "import sys\n",
    "import matplotlib.pyplot as plt\n",
    "import numpy\n",
    "import os\n",
    "\n",
    "from skimage.feature import greycomatrix, greycoprops\n",
    "from skimage import data, io\n"
   ]
  },
  {
   "cell_type": "code",
   "execution_count": 32,
   "metadata": {},
   "outputs": [],
   "source": [
    "DIR_GRAYSCALE_POS_IMG = 'D:/Repositórios/GitHub/Personal/Unisinos-TopicosEspeciaisII-AnaliseImagens/Images/grayscale/Melanoma/'\n",
    "DIR_GRAYSCALE_NEG_IMG = 'D:/Repositórios/GitHub/Personal/Unisinos-TopicosEspeciaisII-AnaliseImagens/Images/grayscale/NotMelanoma/'"
   ]
  },
  {
   "cell_type": "code",
   "execution_count": 78,
   "metadata": {},
   "outputs": [],
   "source": [
    "PositiveImages = []\n",
    "NegativeImages = []\n",
    "\n",
    "# Postivie features\n",
    "PositiveFeatureContrast = []\n",
    "PositiveFeatureDissimilarity = []\n",
    "PositiveFeatureCorrelation = []\n",
    "\n",
    "# Negative features\n",
    "NegativeFeatureContrast = []\n",
    "NegativeFeatureDissimilarity = []\n",
    "NegativeFeatureCorrelation = []"
   ]
  },
  {
   "cell_type": "code",
   "execution_count": 61,
   "metadata": {},
   "outputs": [],
   "source": [
    "def ConvertImageToArray (DIR, TypeImage):\n",
    "\n",
    "    with os.scandir(DIR) as entries:\n",
    "        for entry in entries:            \n",
    "            if TypeImage == 'pos':\n",
    "                PositiveImages.append(io.imread(DIR + entry.name, False))\n",
    "            else:\n",
    "                NegativeImages.append(io.imread(DIR + entry.name, False))"
   ]
  },
  {
   "cell_type": "code",
   "execution_count": 79,
   "metadata": {},
   "outputs": [],
   "source": [
    "def ExtractFeatures ():\n",
    "    \n",
    "    for image in PositiveImages:\n",
    "        glcm = greycomatrix(image, [1], [0], 256, symmetric=True, normed=True)\n",
    "        PositiveFeatureContrast.append(greycoprops(glcm, 'contrast')[0, 0])\n",
    "        PositiveFeatureDissimilarity.append(greycoprops(glcm, 'dissimilarity')[0, 0])\n",
    "        PositiveFeatureCorrelation.append(greycoprops(glcm, 'correlation')[0, 0])\n",
    "        \n",
    "    for image in NegativeImages:\n",
    "        glcm = greycomatrix(image, [1], [0], 256, symmetric=True, normed=True)\n",
    "        NegativeFeatureContrast.append(greycoprops(glcm, 'contrast')[0, 0])\n",
    "        NegativeFeatureDissimilarity.append(greycoprops(glcm, 'dissimilarity')[0, 0])\n",
    "        NegativeFeatureCorrelation.append(greycoprops(glcm, 'correlation')[0, 0])\n",
    "        "
   ]
  },
  {
   "cell_type": "code",
   "execution_count": 80,
   "metadata": {},
   "outputs": [],
   "source": [
    "ConvertImageToArray(DIR_GRAYSCALE_POS_IMG, 'pos')\n",
    "ConvertImageToArray(DIR_GRAYSCALE_NEG_IMG, 'neg')"
   ]
  },
  {
   "cell_type": "code",
   "execution_count": 81,
   "metadata": {},
   "outputs": [],
   "source": [
    "ExtractFeatures()"
   ]
  },
  {
   "cell_type": "code",
   "execution_count": null,
   "metadata": {},
   "outputs": [],
   "source": []
  }
 ],
 "metadata": {
  "kernelspec": {
   "display_name": "Python 3",
   "language": "python",
   "name": "python3"
  },
  "language_info": {
   "codemirror_mode": {
    "name": "ipython",
    "version": 3
   },
   "file_extension": ".py",
   "mimetype": "text/x-python",
   "name": "python",
   "nbconvert_exporter": "python",
   "pygments_lexer": "ipython3",
   "version": "3.7.1"
  }
 },
 "nbformat": 4,
 "nbformat_minor": 2
}
