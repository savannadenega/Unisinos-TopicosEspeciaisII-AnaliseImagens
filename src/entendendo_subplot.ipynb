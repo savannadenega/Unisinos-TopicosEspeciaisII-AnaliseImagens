{
 "cells": [
  {
   "cell_type": "markdown",
   "metadata": {},
   "source": [
    "## Entendendo posições no gráfico\n",
    "\n",
    "add_subplot é composto por três parâmetros:\n",
    "- linha\n",
    "- coluna\n",
    "- posição no quadrante\n",
    "\n",
    "#### notas importantes:\n",
    "\n",
    "Parece ser importante que todos os sub gráficos sejam postos com a mesma quantidade de colunas, assim o quadrante envolvido é o mesmo.\n",
    "Como abaixo, 4 colunas geram 16 quadrantes.\n",
    "\n",
    "A quantidade de linhas é sempre o inverso. Uma linha significa valor máximo no quadrante colocado. Duas linhas é \"dois terços\", e três \"três terços\", etc, até chegar no valor máximo.\n",
    "\n",
    "Ref.: https://stackoverflow.com/questions/3584805/in-matplotlib-what-does-the-argument-mean-in-fig-add-subplot111"
   ]
  },
  {
   "cell_type": "code",
   "execution_count": 3,
   "metadata": {},
   "outputs": [],
   "source": [
    "import matplotlib.pyplot as plt"
   ]
  },
  {
   "cell_type": "code",
   "execution_count": 58,
   "metadata": {},
   "outputs": [
    {
     "data": {
      "text/plain": [
       "<matplotlib.axes._subplots.AxesSubplot at 0x2c7598c3e48>"
      ]
     },
     "execution_count": 58,
     "metadata": {},
     "output_type": "execute_result"
    },
    {
     "data": {
      "image/png": "[encoded data removed]",
      "text/plain": [
       "<Figure size 432x288 with 11 Axes>"
      ]
     },
     "metadata": {
      "needs_background": "light"
     },
     "output_type": "display_data"
    }
   ],
   "source": [
    "fig = plt.figure()\n",
    "fig.add_subplot(3, 4, 1)\n",
    "fig.add_subplot(3, 4, 3)\n",
    "fig.add_subplot(3, 4, 5)\n",
    "fig.add_subplot(3, 4, 6)\n",
    "fig.add_subplot(3, 4, 7)\n",
    "fig.add_subplot(3, 4, 8)\n",
    "fig.add_subplot(3, 4, 9)\n",
    "fig.add_subplot(3, 4, 10)\n",
    "fig.add_subplot(3, 4, 11)\n",
    "fig.add_subplot(3, 4, 12)\n",
    "fig.add_subplot(4, 4, 13)\n"
   ]
  },
  {
   "cell_type": "code",
   "execution_count": null,
   "metadata": {},
   "outputs": [],
   "source": []
  }
 ],
 "metadata": {
  "kernelspec": {
   "display_name": "Python 3",
   "language": "python",
   "name": "python3"
  },
  "language_info": {
   "codemirror_mode": {
    "name": "ipython",
    "version": 3
   },
   "file_extension": ".py",
   "mimetype": "text/x-python",
   "name": "python",
   "nbconvert_exporter": "python",
   "pygments_lexer": "ipython3",
   "version": "3.7.1"
  }
 },
 "nbformat": 4,
 "nbformat_minor": 2
}
